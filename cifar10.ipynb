{
  "cells": [
    {
      "cell_type": "markdown",
      "metadata": {
        "id": "view-in-github",
        "colab_type": "text"
      },
      "source": [
        "<a href=\"https://colab.research.google.com/github/MuhsinaPP/Deep-Learning/blob/main/cifar10.ipynb\" target=\"_parent\"><img src=\"https://colab.research.google.com/assets/colab-badge.svg\" alt=\"Open In Colab\"/></a>"
      ]
    },
    {
      "cell_type": "code",
      "execution_count": null,
      "metadata": {
        "id": "w2mJ_kM65EY9"
      },
      "outputs": [],
      "source": [
        "import pandas as pd\n",
        "import numpy as np\n",
        "import matplotlib.pyplot as plt"
      ]
    },
    {
      "cell_type": "code",
      "execution_count": null,
      "metadata": {
        "id": "g6p6h6Jt5o-f"
      },
      "outputs": [],
      "source": [
        "from tensorflow.keras.layers import Flatten,Dense,Conv2D,MaxPool2D\n",
        "from tensorflow.keras.optimizers import Adam\n",
        "from tensorflow.keras.losses import SparseCategoricalCrossentropy\n",
        "from tensorflow.keras import Sequential"
      ]
    },
    {
      "cell_type": "code",
      "execution_count": null,
      "metadata": {
        "id": "K75yji8D6H7y"
      },
      "outputs": [],
      "source": [
        "from tensorflow.keras.datasets import cifar10"
      ]
    },
    {
      "cell_type": "code",
      "execution_count": null,
      "metadata": {
        "colab": {
          "base_uri": "https://localhost:8080/"
        },
        "id": "iTO6TtFi6O5E",
        "outputId": "c834a32a-1ee8-4aeb-9e8e-cc47ce5a5b3e"
      },
      "outputs": [
        {
          "output_type": "stream",
          "name": "stdout",
          "text": [
            "Downloading data from https://www.cs.toronto.edu/~kriz/cifar-10-python.tar.gz\n",
            "170498071/170498071 [==============================] - 13s 0us/step\n"
          ]
        }
      ],
      "source": [
        "(xtrain,ytrain),(xtest,ytest)=cifar10.load_data()"
      ]
    },
    {
      "cell_type": "code",
      "execution_count": null,
      "metadata": {
        "colab": {
          "base_uri": "https://localhost:8080/"
        },
        "id": "YJbopm7M6l65",
        "outputId": "3ea94b22-cbd0-4af7-d3e1-e91070a1a899"
      },
      "outputs": [
        {
          "output_type": "execute_result",
          "data": {
            "text/plain": [
              "50000"
            ]
          },
          "metadata": {},
          "execution_count": 5
        }
      ],
      "source": [
        "len(xtrain)"
      ]
    },
    {
      "cell_type": "code",
      "execution_count": null,
      "metadata": {
        "colab": {
          "base_uri": "https://localhost:8080/"
        },
        "id": "GyY9ggOd6p6X",
        "outputId": "c144211b-f4a2-4721-921d-143e1f954c9c"
      },
      "outputs": [
        {
          "output_type": "execute_result",
          "data": {
            "text/plain": [
              "10000"
            ]
          },
          "metadata": {},
          "execution_count": 6
        }
      ],
      "source": [
        "len(xtest)"
      ]
    },
    {
      "cell_type": "code",
      "execution_count": null,
      "metadata": {
        "colab": {
          "base_uri": "https://localhost:8080/"
        },
        "id": "qWnqS9nR6sET",
        "outputId": "519b7217-c52c-40d2-b070-3719f6a7f3e9"
      },
      "outputs": [
        {
          "output_type": "execute_result",
          "data": {
            "text/plain": [
              "(50000, 32, 32, 3)"
            ]
          },
          "metadata": {},
          "execution_count": 7
        }
      ],
      "source": [
        "xtrain.shape"
      ]
    },
    {
      "cell_type": "code",
      "execution_count": null,
      "metadata": {
        "id": "I66grB8g6Y2A"
      },
      "outputs": [],
      "source": [
        "model=Sequential()"
      ]
    },
    {
      "cell_type": "code",
      "execution_count": null,
      "metadata": {
        "id": "l_Awoewf6deT"
      },
      "outputs": [],
      "source": [
        "model.add(Conv2D(filters=50,kernel_size=(3,3),activation='relu',input_shape=(32,32,3),padding='valid',strides=1))\n",
        "model.add(MaxPool2D(pool_size=(2,2)))\n",
        "model.add(Conv2D(filters=100,kernel_size=(3,3),activation='relu',padding='valid',strides=1))\n",
        "model.add(Conv2D(filters=50,kernel_size=(3,3),activation='relu',padding='valid',strides=1))\n",
        "model.add(MaxPool2D(pool_size=(2,2)))\n",
        "model.add(Flatten())\n",
        "model.add(Dense(100,activation='relu'))\n",
        "model.add(Dense(50,activation='relu'))\n",
        "model.add(Dense(10,activation='softmax'))"
      ]
    },
    {
      "cell_type": "code",
      "execution_count": null,
      "metadata": {
        "colab": {
          "base_uri": "https://localhost:8080/"
        },
        "id": "tAsYBW0B7y22",
        "outputId": "95187ac9-13f0-4b50-f2a8-dc8f4ffb1385"
      },
      "outputs": [
        {
          "output_type": "stream",
          "name": "stdout",
          "text": [
            "Model: \"sequential\"\n",
            "_________________________________________________________________\n",
            " Layer (type)                Output Shape              Param #   \n",
            "=================================================================\n",
            " conv2d (Conv2D)             (None, 30, 30, 50)        1400      \n",
            "                                                                 \n",
            " max_pooling2d (MaxPooling2  (None, 15, 15, 50)        0         \n",
            " D)                                                              \n",
            "                                                                 \n",
            " conv2d_1 (Conv2D)           (None, 13, 13, 100)       45100     \n",
            "                                                                 \n",
            " conv2d_2 (Conv2D)           (None, 11, 11, 50)        45050     \n",
            "                                                                 \n",
            " max_pooling2d_1 (MaxPoolin  (None, 5, 5, 50)          0         \n",
            " g2D)                                                            \n",
            "                                                                 \n",
            " flatten (Flatten)           (None, 1250)              0         \n",
            "                                                                 \n",
            " dense (Dense)               (None, 100)               125100    \n",
            "                                                                 \n",
            " dense_1 (Dense)             (None, 50)                5050      \n",
            "                                                                 \n",
            " dense_2 (Dense)             (None, 10)                510       \n",
            "                                                                 \n",
            "=================================================================\n",
            "Total params: 222210 (868.01 KB)\n",
            "Trainable params: 222210 (868.01 KB)\n",
            "Non-trainable params: 0 (0.00 Byte)\n",
            "_________________________________________________________________\n"
          ]
        }
      ],
      "source": [
        "model.summary()"
      ]
    },
    {
      "cell_type": "code",
      "execution_count": null,
      "metadata": {
        "id": "l000AMCw8GSb"
      },
      "outputs": [],
      "source": [
        "model.compile(optimizer=Adam(),loss=SparseCategoricalCrossentropy(),metrics=['accuracy'])"
      ]
    },
    {
      "cell_type": "code",
      "execution_count": null,
      "metadata": {
        "colab": {
          "base_uri": "https://localhost:8080/"
        },
        "id": "LzXH99iP8Rfy",
        "outputId": "6493f2d2-5b29-4206-ca02-7ea37c61bcbf"
      },
      "outputs": [
        {
          "output_type": "stream",
          "name": "stdout",
          "text": [
            "Epoch 1/10\n",
            "500/500 [==============================] - 9s 8ms/step - loss: 1.8467 - accuracy: 0.3725 - val_loss: 1.4487 - val_accuracy: 0.4728\n",
            "Epoch 2/10\n",
            "500/500 [==============================] - 4s 7ms/step - loss: 1.3290 - accuracy: 0.5264 - val_loss: 1.2475 - val_accuracy: 0.5555\n",
            "Epoch 3/10\n",
            "500/500 [==============================] - 3s 6ms/step - loss: 1.1629 - accuracy: 0.5876 - val_loss: 1.1534 - val_accuracy: 0.5892\n",
            "Epoch 4/10\n",
            "500/500 [==============================] - 4s 7ms/step - loss: 1.0467 - accuracy: 0.6323 - val_loss: 1.0689 - val_accuracy: 0.6231\n",
            "Epoch 5/10\n",
            "500/500 [==============================] - 4s 9ms/step - loss: 0.9528 - accuracy: 0.6678 - val_loss: 1.0594 - val_accuracy: 0.6339\n",
            "Epoch 6/10\n",
            "500/500 [==============================] - 3s 6ms/step - loss: 0.8715 - accuracy: 0.6967 - val_loss: 1.0056 - val_accuracy: 0.6508\n",
            "Epoch 7/10\n",
            "500/500 [==============================] - 3s 7ms/step - loss: 0.7963 - accuracy: 0.7200 - val_loss: 0.9608 - val_accuracy: 0.6742\n",
            "Epoch 8/10\n",
            "500/500 [==============================] - 3s 7ms/step - loss: 0.7357 - accuracy: 0.7444 - val_loss: 1.0141 - val_accuracy: 0.6637\n",
            "Epoch 9/10\n",
            "500/500 [==============================] - 4s 7ms/step - loss: 0.6707 - accuracy: 0.7632 - val_loss: 1.0146 - val_accuracy: 0.6697\n",
            "Epoch 10/10\n",
            "500/500 [==============================] - 3s 7ms/step - loss: 0.6144 - accuracy: 0.7850 - val_loss: 1.0279 - val_accuracy: 0.6689\n"
          ]
        }
      ],
      "source": [
        "hist=model.fit(xtrain,ytrain,epochs=10,batch_size=100,validation_data=(xtest,ytest))"
      ]
    },
    {
      "cell_type": "code",
      "source": [
        "pd.DataFrame(hist.history)['loss'].plot(figsize=(8,5))\n",
        "pd.DataFrame(hist.history)['val_loss'].plot(figsize=(8,5))\n",
        "plt.show()"
      ],
      "metadata": {
        "colab": {
          "base_uri": "https://localhost:8080/",
          "height": 445
        },
        "id": "tcrqI3Kc24gn",
        "outputId": "44f365c3-caf8-4034-cf40-1a7c5f4dcf7b"
      },
      "execution_count": null,
      "outputs": [
        {
          "output_type": "display_data",
          "data": {
            "text/plain": [
              "<Figure size 800x500 with 1 Axes>"
            ],
            "image/png": "[encoded data removed]"
          },
          "metadata": {}
        }
      ]
    },
    {
      "cell_type": "code",
      "source": [
        "pd.DataFrame(hist.history)['accuracy'].plot(figsize=(8,5))\n",
        "pd.DataFrame(hist.history)['val_accuracy'].plot(figsize=(8,5))\n",
        "plt.show()"
      ],
      "metadata": {
        "colab": {
          "base_uri": "https://localhost:8080/",
          "height": 446
        },
        "id": "opMONb3P33pg",
        "outputId": "05d88b18-16a0-407d-dd91-a0e0f4cb7313"
      },
      "execution_count": null,
      "outputs": [
        {
          "output_type": "display_data",
          "data": {
            "text/plain": [
              "<Figure size 800x500 with 1 Axes>"
            ],
            "image/png": "[encoded data removed]"
          },
          "metadata": {}
        }
      ]
    }
  ],
  "metadata": {
    "colab": {
      "provenance": [],
      "authorship_tag": "ABX9TyP6FW2HPUo3AQ/AfsqrSaFP",
      "include_colab_link": true
    },
    "kernelspec": {
      "display_name": "Python 3",
      "name": "python3"
    },
    "language_info": {
      "name": "python"
    }
  },
  "nbformat": 4,
  "nbformat_minor": 0
}